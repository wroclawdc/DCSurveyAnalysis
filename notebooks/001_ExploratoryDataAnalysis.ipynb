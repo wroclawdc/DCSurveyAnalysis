{
 "cells": [
  {
   "cell_type": "code",
   "execution_count": null,
   "metadata": {},
   "outputs": [],
   "source": [
    "import pandas as pd\n",
    "import seaborn as sns\n",
    "import matplotlib.pyplot as plt\n"
   ]
  },
  {
   "cell_type": "code",
   "execution_count": null,
   "metadata": {},
   "outputs": [],
   "source": [
    "raw_survey_data = pd.read_excel(\"../data/01_raw/DCSurveyRaw240205.xlsx\")"
   ]
  },
  {
   "cell_type": "code",
   "execution_count": null,
   "metadata": {},
   "outputs": [],
   "source": [
    "# Exclude indicated columns\n",
    "\n",
    "selected_survey_data = raw_survey_data.drop(columns=[\"ID\", \"Nazwa\", \"Czas ostatniej modyfikacji\", \"Adres e-mail\", \"Godzina rozpoczęcia\", \"Godzina ukończenia\"])"
   ]
  },
  {
   "cell_type": "code",
   "execution_count": null,
   "metadata": {},
   "outputs": [],
   "source": [
    "selected_survey_data.head()"
   ]
  },
  {
   "cell_type": "code",
   "execution_count": null,
   "metadata": {},
   "outputs": [],
   "source": [
    "#make list of object type columns\n",
    "\n",
    "object_columns = selected_survey_data.select_dtypes(include=['object']).columns\n",
    "\n",
    "#manually keep columns that are useful\n",
    "\n",
    "usefull_categories = [\"Czy kiedykolwiek programowałeś/aś?\",\n",
    "                      \"Czy kiedykolwiek używałeś/aś narzędzi klasy Business Intelligence (np. Power BI, Tableau)\",\n",
    "                      \"Czy działasz lub działałeś/aś w organizacji studenckiej lub innej zorganizowanej społeczności?\",\n",
    "                      \"Czy masz doświadczenie w mentoringu lub uczeniu innych?\",\n",
    "                      \"\"\"Liczba godzin tygodniowo, które jesteś przeciętnie w stanie wygospodarować na działalność w Data Community (działalność \"z domu\")\"\"\",\n",
    "                      \"\"\"Spotkania \"roboczo-organizacyjne\" preferuję odbywać w formie:\"\"\",\n",
    "                      \"Płeć\",\n",
    "                      \"Tryb studiów\",\n",
    "                      \"Jestem aktywny/a zawodowo\",\n",
    "                      \"Pracuję w branży IT/DATA\"]"
   ]
  },
  {
   "cell_type": "code",
   "execution_count": null,
   "metadata": {},
   "outputs": [],
   "source": [
    "object_columns"
   ]
  },
  {
   "cell_type": "code",
   "execution_count": null,
   "metadata": {},
   "outputs": [],
   "source": [
    "#make lisst of numeric columns\n",
    "\n",
    "numeric_columns = selected_survey_data.select_dtypes(include=['int64', 'float64']).columns.to_list()\n",
    "numeric_columns"
   ]
  },
  {
   "cell_type": "code",
   "execution_count": null,
   "metadata": {},
   "outputs": [],
   "source": [
    "# select only numeric columns\n",
    "\n",
    "numeric_survey_data = selected_survey_data.select_dtypes(include=['number'])\n",
    "\n",
    "# calculate correlation matrix\n",
    "\n",
    "correlation_matrix = numeric_survey_data.corr(method='spearman')\n",
    "\n",
    "# plot correlation matrix\n",
    "\n",
    "plt.figure(figsize=(20, 20))\n",
    "\n",
    "sns.heatmap(correlation_matrix, annot=True, fmt=\".2f\", cmap='coolwarm')\n",
    "\n",
    "# plt.show()"
   ]
  },
  {
   "cell_type": "code",
   "execution_count": null,
   "metadata": {},
   "outputs": [],
   "source": [
    "#calculate means for each column\n",
    "\n",
    "means = numeric_survey_data.mean().sort_values(ascending=False)\n",
    "means"
   ]
  },
  {
   "cell_type": "code",
   "execution_count": null,
   "metadata": {},
   "outputs": [],
   "source": [
    "cols_for_analysis = usefull_categories + numeric_columns"
   ]
  },
  {
   "cell_type": "code",
   "execution_count": null,
   "metadata": {},
   "outputs": [],
   "source": [
    "# write to csv file dataframe with 'cols_for_analysis' columns\n",
    "\n",
    "selected_survey_data[cols_for_analysis].to_csv(\"../data/01_raw/SelectedSurveySata.csv\", index=False)"
   ]
  },
  {
   "cell_type": "code",
   "execution_count": null,
   "metadata": {},
   "outputs": [],
   "source": [
    "\n",
    "selected_survey_data = selected_survey_data[selected_survey_data[\"Płeć\"] != \"Inna\"]"
   ]
  },
  {
   "cell_type": "code",
   "execution_count": null,
   "metadata": {},
   "outputs": [],
   "source": [
    "import numpy as np\n",
    "\n",
    "# Prepare list for results\n",
    "results = []\n",
    "\n",
    "# Iterate over all combinations of selected columns\n",
    "for col_cat in usefull_categories:\n",
    "    for col_num in numeric_columns:\n",
    "\n",
    "        # calulate mean for each column without groupping\n",
    "\n",
    "        mean = selected_survey_data[col_num].mean()\n",
    "\n",
    "        # grpuping by category and calculating mean for each group\n",
    "        groups = selected_survey_data.groupby(col_cat)[col_num].mean()\n",
    "\n",
    "        # Calculating difference between max and min value for each group\n",
    "        max_min_diff = groups.max() - groups.min()\n",
    "\n",
    "        # Appending results to the list\n",
    "        results.append((col_cat, col_num, max_min_diff, groups.max(), groups.min(), mean))\n",
    "\n",
    "\n",
    "# store results in a dataframe\n",
    "results_df = pd.DataFrame(results, columns=[\"Category\", \"Column\", \"MaxMinDiff\", \"Max\", \"Min\", \"Mean\"])\n",
    "\n",
    "# Sort results by MaxMinDiff in descending order\n",
    "\n",
    "results_sorted = results_df.sort_values(by=\"MaxMinDiff\", ascending=False)\n",
    "\n",
    "# Wyświetlenie pierwszych 10 wyników\n",
    "results_sorted\n"
   ]
  },
  {
   "cell_type": "code",
   "execution_count": null,
   "metadata": {},
   "outputs": [],
   "source": [
    "# For each 'Category' and 'Column' from 'results_sorted' dataframe plot barplot with 'Category' on x-axis and 'Column' on y-axis\n",
    "for i, row in results_sorted[:20].iterrows():\n",
    "\n",
    "\n",
    "# show 'Category' as a title on the top of the plot\n",
    "    plt.title(row[\"Category\"])\n",
    "\n",
    "    # order categories on plot by mean value descending\n",
    "\n",
    "    selected_survey_data.groupby(row[\"Category\"])[row[\"Column\"]].mean().sort_values(ascending=False).index\n",
    "\n",
    "    # order categories on plot by mean value descending and keep consistency in colors of categories\n",
    "\n",
    "    plt.xlim(0, 5.5)\n",
    "    \n",
    "\n",
    "    sns.barplot(data=selected_survey_data, x=row[\"Column\"], y=row[\"Category\"], ci=None, order=selected_survey_data.groupby(row[\"Category\"])[row[\"Column\"]].mean().sort_values(ascending=False).index)\n",
    "\n",
    "\n",
    "    # remove y-axis label\n",
    "    plt.ylabel(\"\")\n",
    "\n",
    "    # add space after title\n",
    "\n",
    "    plt.title(row[\"Category\"], pad=20)\n",
    "    plt.show()\n"
   ]
  }
 ],
 "metadata": {
  "kernelspec": {
   "display_name": "wro-dc-survey",
   "language": "python",
   "name": "python3"
  },
  "language_info": {
   "codemirror_mode": {
    "name": "ipython",
    "version": 3
   },
   "file_extension": ".py",
   "mimetype": "text/x-python",
   "name": "python",
   "nbconvert_exporter": "python",
   "pygments_lexer": "ipython3",
   "version": "3.8.18"
  }
 },
 "nbformat": 4,
 "nbformat_minor": 2
}
